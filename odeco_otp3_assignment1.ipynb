{
 "cells": [
  {
   "cell_type": "markdown",
   "id": "7aed2ec4",
   "metadata": {
    "colab_type": "text",
    "id": "view-in-github",
    "pycharm": {
     "name": "#%% md\n"
    }
   },
   "source": [
    "<a href=\"https://colab.research.google.com/github/IAAA-Lab/otp-module-3-activity-1/blob/main/odeco_otp3_assignment1.ipynb\" target=\"_parent\"><img src=\"https://colab.research.google.com/assets/colab-badge.svg\" alt=\"Open In Colab\"/></a>"
   ]
  },
  {
   "cell_type": "markdown",
   "id": "942fa55c",
   "metadata": {
    "id": "942fa55c",
    "pycharm": {
     "name": "#%% md\n"
    }
   },
   "source": [
    "# ODECO, Online Training Programme, Module 3, Assignment 1"
   ]
  },
  {
   "cell_type": "markdown",
   "id": "e628fd7f",
   "metadata": {
    "id": "e628fd7f",
    "pycharm": {
     "name": "#%% md\n"
    }
   },
   "source": [
    "The European Data Portal (data.europa.eu) has a user interface for searching at https://data.europa.eu/data/datasets?locale=en&minScoring=0 .\n",
    "\n",
    "However, if we want to build an application (software) reusing some of the datasets publicly available at the portal, we need to write some code accesing direclty the APIs offered by data.europa.eu.\n",
    "\n",
    "In this short tutorial/assignment we will show to use the following APIs for seaching:\n",
    "\n",
    "- the CKAN Restful API (https://data.europa.eu/api/hub/search/#tag/Ckan ): CKAN API also available in many other Open Data Catalogues deployed with CKAN software\n",
    "- the Search Restful API (https://data.europa.eu/api/hub/search/#tag/Search) : particular API developed for data.europa.eu\n",
    "- the SPARQL end-point (https://data.europa.eu/data/sparql?locale=en): standard SPARQL end-point, also available in many other Open Data catalogues\n",
    "\n",
    "As programming language to see that the use of the APIs is feasible, we will use Python.\n",
    "\n",
    "Let's start preparing a query to retrieve datasets from the European Data Portal. First, we will type a keyword. For instance, if we wan to retrieve the datasets produced in the European TRAFAIR project, we could use the specific term 'Trafair'."
   ]
  },
  {
   "cell_type": "code",
   "execution_count": null,
   "id": "90f28276",
   "metadata": {
    "colab": {
     "base_uri": "https://localhost:8080/"
    },
    "id": "90f28276",
    "outputId": "3ac2df82-ba31-4d0b-bca3-b9715b70e920",
    "pycharm": {
     "name": "#%%\n"
    }
   },
   "outputs": [],
   "source": [
    "keyword = input('Type a keyword : ')"
   ]
  },
  {
   "cell_type": "markdown",
   "id": "acad5e2f",
   "metadata": {
    "id": "acad5e2f",
    "pycharm": {
     "name": "#%% md\n"
    }
   },
   "source": [
    "One initial possibility is to use the package_search function of the CKAN API (see https://data.europa.eu/api/hub/search/#operation/ckanPackageSearch ). "
   ]
  },
  {
   "cell_type": "code",
   "execution_count": null,
   "id": "34f10e0b",
   "metadata": {
    "colab": {
     "base_uri": "https://localhost:8080/"
    },
    "id": "34f10e0b",
    "outputId": "2f1643f6-ac0a-426e-9791-0bfd854596a3",
    "pycharm": {
     "name": "#%%\n"
    }
   },
   "outputs": [],
   "source": [
    "edp_url = 'https://data.europa.eu/data/search'\n",
    "\n",
    "search_request = edp_url + '/ckan/package_search?q=%22'+keyword +'%22&rows=10'\n",
    "\n",
    "print('URL of the search request: ', search_request, '\\n')\n",
    "\n",
    "from urllib.request import urlopen\n",
    "\n",
    "response = urlopen(search_request)\n",
    "\n",
    "import json\n",
    "\n",
    "jsonResponse = json.load(response)\n",
    "\n",
    "print(jsonResponse)"
   ]
  },
  {
   "cell_type": "markdown",
   "id": "bbe0ecb7",
   "metadata": {
    "id": "bbe0ecb7",
    "pycharm": {
     "name": "#%% md\n"
    }
   },
   "source": [
    "As the output is JSON format and is not easy to read by humans, we should extract specific fields, e.g. the identifier ('id'), with the following code:"
   ]
  },
  {
   "cell_type": "code",
   "execution_count": null,
   "id": "c9f6c0c7",
   "metadata": {
    "colab": {
     "base_uri": "https://localhost:8080/"
    },
    "id": "c9f6c0c7",
    "outputId": "495912e0-80b7-4762-b536-7ba1761775ea",
    "pycharm": {
     "name": "#%%\n"
    }
   },
   "outputs": [],
   "source": [
    "rows = jsonResponse[\"result\"][\"results\"]\n",
    "for row in rows:\n",
    "    print(row[\"id\"])"
   ]
  },
  {
   "cell_type": "markdown",
   "id": "25631601",
   "metadata": {
    "id": "25631601",
    "pycharm": {
     "name": "#%% md\n"
    }
   },
   "source": [
    "A second possiblity is to use the Search Restful API of the portal (see https://data.europa.eu/api/hub/search/#operation/searchGet )"
   ]
  },
  {
   "cell_type": "code",
   "execution_count": null,
   "id": "cfba68fd",
   "metadata": {
    "colab": {
     "base_uri": "https://localhost:8080/"
    },
    "id": "cfba68fd",
    "outputId": "bf62fa85-d956-4a09-b7a7-71254a59852e",
    "pycharm": {
     "name": "#%%\n"
    }
   },
   "outputs": [],
   "source": [
    "search_request = edp_url + '/search?q=%22'+keyword +'%22&limit=10'\n",
    "\n",
    "print('URL of the search request: ', search_request, '\\n')\n",
    "\n",
    "response = urlopen(search_request)\n",
    "\n",
    "jsonResponse = json.load(response)\n",
    "\n",
    "rows = jsonResponse[\"result\"][\"results\"]\n",
    "for row in rows:\n",
    "    print(row[\"id\"])"
   ]
  },
  {
   "cell_type": "markdown",
   "id": "e2574669",
   "metadata": {
    "id": "e2574669",
    "pycharm": {
     "name": "#%% md\n"
    }
   },
   "source": [
    "If we want to make more specific queries filtering the values of specific properties, we can construct a SPARQL query including a filter on the dcat:keyword property using this keyword."
   ]
  },
  {
   "cell_type": "code",
   "execution_count": null,
   "id": "57ad007c",
   "metadata": {
    "colab": {
     "base_uri": "https://localhost:8080/"
    },
    "id": "57ad007c",
    "outputId": "f4772589-babd-4558-92a5-df16ffae53aa",
    "pycharm": {
     "name": "#%%\n"
    }
   },
   "outputs": [],
   "source": [
    "query_text = \"\"\"\n",
    "           PREFIX dct:<http://purl.org/dc/terms/>\n",
    "           PREFIX rdf: <http://www.w3.org/1999/02/22-rdf-syntax-ns#>\n",
    "           PREFIX dcat: <http://www.w3.org/ns/dcat#>\n",
    "           SELECT DISTINCT ?s WHERE { \n",
    "             ?s a dcat:Dataset .\n",
    "             ?s dcat:keyword ?value . \n",
    "             FILTER regex(str(?value), '\"\"\"+ keyword +\"\"\"', 'i') .\n",
    "           }\"\"\"\n",
    "\n",
    "print(query_text)"
   ]
  },
  {
   "cell_type": "markdown",
   "id": "36f4aaf5",
   "metadata": {
    "id": "36f4aaf5",
    "pycharm": {
     "name": "#%% md\n"
    }
   },
   "source": [
    "We could run this query at the user interface of the SPARQL end-point at https://data.europa.eu/data/sparql?locale=en \n",
    "\n",
    "But in our case, we will launch the query through our Python code:"
   ]
  },
  {
   "cell_type": "code",
   "execution_count": null,
   "id": "7f84222b",
   "metadata": {
    "colab": {
     "base_uri": "https://localhost:8080/"
    },
    "id": "7f84222b",
    "outputId": "f4b9da7f-0396-4ece-ecdf-abc6ff700156",
    "pycharm": {
     "is_executing": true,
     "name": "#%%\n"
    }
   },
   "outputs": [],
   "source": [
    "!pip install SPARQLWrapper\n",
    "\n",
    "from SPARQLWrapper import SPARQLWrapper, JSON\n",
    "\n",
    "sparql = SPARQLWrapper('https://data.europa.eu/sparql')\n",
    "\n",
    "sparql.setQuery(query_text)\n",
    "\n",
    "sparql.setReturnFormat(JSON)\n",
    "\n",
    "results = sparql.query().convert()\n"
   ]
  },
  {
   "cell_type": "markdown",
   "id": "fe613ef6",
   "metadata": {
    "id": "fe613ef6",
    "pycharm": {
     "name": "#%% md\n"
    }
   },
   "source": [
    "We need to process the results in JSON format as follows:"
   ]
  },
  {
   "cell_type": "code",
   "execution_count": null,
   "id": "2714d17b",
   "metadata": {
    "colab": {
     "base_uri": "https://localhost:8080/"
    },
    "id": "2714d17b",
    "outputId": "910a2638-c810-4b0e-c249-34299052de8a",
    "pycharm": {
     "is_executing": true,
     "name": "#%%\n"
    }
   },
   "outputs": [],
   "source": [
    "for row in results[\"results\"][\"bindings\"]:\n",
    "    dataset = row[\"s\"][\"value\"]\n",
    "    print(dataset)"
   ]
  },
  {
   "cell_type": "markdown",
   "id": "505074ed",
   "metadata": {
    "id": "505074ed",
    "pycharm": {
     "name": "#%% md\n"
    }
   },
   "source": [
    "We can click on one of the previous links to see the metadata of a dataset in a human readable format.\n",
    "We can also retrieve the metadata in Turtle format of one of these datasets, and upload it in a graph:"
   ]
  },
  {
   "cell_type": "code",
   "execution_count": null,
   "id": "6f2f7d40",
   "metadata": {
    "colab": {
     "base_uri": "https://localhost:8080/"
    },
    "id": "6f2f7d40",
    "outputId": "171b559a-5d7c-4330-d91f-8854c16ff334",
    "pycharm": {
     "is_executing": true,
     "name": "#%%\n"
    }
   },
   "outputs": [],
   "source": [
    "\n",
    "def get_file_name(url):\n",
    "    \"\"\"\n",
    "    https://europeandataportal.eu/set/data/https-opendata-aragon-es-datos-catalogo-dataset-oai-zaguan-unizar-es-89319\n",
    "    return https-opendata-aragon-es-datos-catalogo-dataset-oai-zaguan-unizar-es-89319\n",
    "    \"\"\"\n",
    "    words = url.split('/')\n",
    "    file_name = words[len(words)-1]\n",
    "    return file_name\n",
    "\n",
    "import rdflib\n",
    "\n",
    "def download_metadata(url):\n",
    "    \"\"\"\n",
    "    Parses the dataset with URL in the graph\n",
    "    \"\"\"\n",
    "    id = get_file_name(url)\n",
    "    ttl_url = 'https://data.europa.eu/data/api/datasets/'+ id + '.ttl?useNormalizedId=true&locale=en'\n",
    "    print(ttl_url)\n",
    "    try:\n",
    "        graph = rdflib.Graph()\n",
    "        graph.parse(ttl_url, format=\"turtle\")\n",
    "        return graph\n",
    "    except Exception as err:\n",
    "        print(f'Other error occurred: {err}')\n",
    "\n",
    "url = input('Copy here one of the previous URLs: ')\n",
    "\n",
    "graph = download_metadata(url)\n",
    "v = graph.serialize(format='turtle')\n",
    "print(v)"
   ]
  },
  {
   "cell_type": "markdown",
   "id": "80994eec",
   "metadata": {
    "id": "80994eec",
    "pycharm": {
     "name": "#%% md\n"
    }
   },
   "source": [
    "We can also retrieve the real data behind a dataset. \n",
    "\n",
    "For instance, this dataset ( http://data.europa.eu/88u/dataset/https-opendata-aragon-es-datos-catalogo-dataset-oai-zaguan-unizar-es-95726 ) has an associated distribution in CSV format.\n",
    "\n",
    "We can retrieve the URL of the CSV making a SPARQL query on the metadata in Turtle format:"
   ]
  },
  {
   "cell_type": "code",
   "execution_count": null,
   "id": "ead9432e",
   "metadata": {
    "colab": {
     "base_uri": "https://localhost:8080/"
    },
    "id": "ead9432e",
    "outputId": "ced15073-4f84-44c1-dc51-f0736c0de6d5",
    "pycharm": {
     "is_executing": true,
     "name": "#%%\n"
    }
   },
   "outputs": [],
   "source": [
    "url = \"http://data.europa.eu/88u/dataset/https-opendata-aragon-es-datos-catalogo-dataset-oai-zaguan-unizar-es-95726\"\n",
    "\n",
    "graph = download_metadata(url)\n",
    "\n",
    "def get_csv_url(graph):\n",
    "    query_text = \"\"\"\n",
    "                   PREFIX dct:<http://purl.org/dc/terms/>\n",
    "                   PREFIX rdf: <http://www.w3.org/1999/02/22-rdf-syntax-ns#>\n",
    "                   PREFIX dcat: <http://www.w3.org/ns/dcat#>\n",
    "                   PREFIX xsd: <http://www.w3.org/2001/XMLSchema#>\n",
    "                   SELECT  ?value  WHERE {\n",
    "                        ?dataset dcat:distribution ?resource .\n",
    "                        ?resource a dcat:Distribution .\n",
    "                        ?resource dct:format <http://publications.europa.eu/resource/authority/file-type/CSV> .\n",
    "                        ?resource dcat:accessURL ?value\n",
    "                    }\n",
    "                    \"\"\"\n",
    "    print(query_text)\n",
    "    qres =  graph.query(query_text)\n",
    "    for row in qres:\n",
    "        value = row[\"value\"]\n",
    "    return value\n",
    "\n",
    "csv_url = get_csv_url(graph)\n",
    "print(csv_url)\n"
   ]
  },
  {
   "cell_type": "markdown",
   "id": "dce5f0ef",
   "metadata": {
    "id": "dce5f0ef",
    "pycharm": {
     "name": "#%% md\n"
    }
   },
   "source": [
    "Last, we can visualize the content of the CSV file:"
   ]
  },
  {
   "cell_type": "code",
   "execution_count": null,
   "outputs": [],
   "source": [
    "!pip install pandas\n",
    "\n",
    "import pandas as pd\n",
    "\n",
    "raw_sensor_data_2020_01 = pd.read_csv(csv_url)\n",
    "\n",
    "print(raw_sensor_data_2020_01)"
   ],
   "metadata": {
    "collapsed": false,
    "pycharm": {
     "name": "#%%\n"
    }
   }
  }
 ],
 "metadata": {
  "colab": {
   "include_colab_link": true,
   "name": "odeco_otp3_assignment1.ipynb",
   "provenance": []
  },
  "kernelspec": {
   "display_name": "Python 3 (ipykernel)",
   "language": "python",
   "name": "python3"
  },
  "language_info": {
   "codemirror_mode": {
    "name": "ipython",
    "version": 3
   },
   "file_extension": ".py",
   "mimetype": "text/x-python",
   "name": "python",
   "nbconvert_exporter": "python",
   "pygments_lexer": "ipython3",
   "version": "3.9.11"
  }
 },
 "nbformat": 4,
 "nbformat_minor": 5
}