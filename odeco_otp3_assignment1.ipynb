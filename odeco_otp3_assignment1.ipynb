{
 "cells": [
  {
   "cell_type": "markdown",
   "id": "942fa55c",
   "metadata": {
    "id": "942fa55c"
   },
   "source": [
    "# ODECO, Online Training Programme, Module 3, Assignment 1"
   ]
  },
  {
   "cell_type": "markdown",
   "source": [
    "## Online Training Session\n",
    "\n",
    "### Introduction\n",
    "\n",
    "The **European Data Portal** ([data.europa.eu](https://data.europa.eu)) has a user interface for searching at <https://data.europa.eu/data/datasets?locale=en&minScoring=0>.\n",
    "\n",
    "However, if we want to build an application (software) reusing some of the datasets publicly available at the portal, we need to write some code accessing directly the APIs offered by data.europa.eu. At the [FAQ](https://data.europa.eu/en/faq) of the European Data portal we can find a compilation of accesible APIs (see question _\"Which APIs are available and where can I find information about them?\"_).\n",
    "\n",
    "In this short tutorial/assignment we will show how to use the following APIs for searching:\n",
    "\n",
    "- the **CKAN Restful API** (<https://data.europa.eu/api/hub/search/#tag/Ckan>): [CKAN API](http://docs.ckan.org/en/2.9/api/) also available in many other Open Data Catalogues deployed with [CKAN software](https://ckan.org/). CKAN is an open-source DMS (data management system) for powering data hubs and data portals. \n",
    "- the **Search Restful API** (<https://data.europa.eu/api/hub/search/#tag/Search>) : particular API developed for the European Data Portal.\n",
    "- the **SPARQL end-point** (<https://data.europa.eu/data/sparql?locale=en>): standard **[SPARQL](https://www.w3.org/TR/sparql11-overview/)** end-point, also available in many other Open Data catalogues. SPARQL is a semantic query language for databases—able to retrieve and manipulate data stored in **[RDF](https://www.w3.org/TR/rdf11-concepts/)** format.\n",
    "\n",
    "As the programming language to see that the use of the APIs is feasible, we will use **Python**.\n",
    "\n",
    "### Let's start with CKAN Restful API\n",
    "\n",
    "Let's start preparing a query to retrieve datasets from the European Data Portal. First, we will type a keyword. For instance, if we want to retrieve the datasets produced in the European [TRAFAIR](https://trafair.eu/) project, we could use the specific term `Trafair`."
   ],
   "metadata": {
    "collapsed": false,
    "pycharm": {
     "name": "#%% md\n"
    }
   }
  },
  {
   "cell_type": "code",
   "execution_count": null,
   "outputs": [],
   "source": [
    "keyword = input('Type a keyword : ')"
   ],
   "metadata": {
    "collapsed": false,
    "pycharm": {
     "name": "#%%\n"
    }
   }
  },
  {
   "cell_type": "markdown",
   "source": [
    "One initial possibility is to use the `package_search` function of the CKAN API (see <https://data.europa.eu/api/hub/search/#operation/ckanPackageSearch> and <https://docs.ckan.org/en/2.9/api/index.html#ckan.logic.action.get.package_search> for more details about the allowed parameters)."
   ],
   "metadata": {
    "collapsed": false,
    "pycharm": {
     "name": "#%% md\n"
    }
   }
  },
  {
   "cell_type": "code",
   "execution_count": null,
   "outputs": [],
   "source": [
    "edp_url = 'https://data.europa.eu/data/search'\n",
    "\n",
    "search_request = edp_url + '/ckan/package_search?q=%22'+keyword +'%22&rows=10'\n",
    "\n",
    "print('URL of the search request: ', search_request, '\\n')\n",
    "\n",
    "from urllib.request import urlopen\n",
    "\n",
    "response = urlopen(search_request)\n",
    "\n",
    "import json\n",
    "\n",
    "jsonResponse = json.load(response)\n",
    "\n",
    "print(jsonResponse)"
   ],
   "metadata": {
    "collapsed": false,
    "pycharm": {
     "name": "#%%\n"
    }
   }
  },
  {
   "cell_type": "markdown",
   "source": [
    "As the output is JSON format and is not easy to read by humans, we should extract specific fields, e.g. the identifier (`id), with the following code:"
   ],
   "metadata": {
    "collapsed": false,
    "pycharm": {
     "name": "#%% md\n"
    }
   }
  },
  {
   "cell_type": "code",
   "execution_count": null,
   "outputs": [],
   "source": [
    "rows = jsonResponse[\"result\"][\"results\"]\n",
    "print(len(rows), ' results:\\n')\n",
    "for row in rows:\n",
    "    print(row[\"id\"])"
   ],
   "metadata": {
    "collapsed": false,
    "pycharm": {
     "name": "#%%\n"
    }
   }
  },
  {
   "cell_type": "markdown",
   "source": [
    "### The Search Resful API as alternative\n",
    "\n",
    "A second possibility is to use the Search Restful API of the portal (see <https://data.europa.eu/api/hub/search/#operation/searchGet> )"
   ],
   "metadata": {
    "collapsed": false,
    "pycharm": {
     "name": "#%% md\n"
    }
   }
  },
  {
   "cell_type": "code",
   "execution_count": null,
   "outputs": [],
   "source": [
    "search_request = edp_url + '/search?q=%22'+keyword +'%22&limit=10'\n",
    "\n",
    "print('URL of the search request: ', search_request, '\\n')\n",
    "\n",
    "response = urlopen(search_request)\n",
    "\n",
    "jsonResponse = json.load(response)\n",
    "\n",
    "rows = jsonResponse[\"result\"][\"results\"]\n",
    "print(len(rows), ' results:\\n')\n",
    "for row in rows:\n",
    "    print(row[\"id\"])"
   ],
   "metadata": {
    "collapsed": false,
    "pycharm": {
     "name": "#%%\n"
    }
   }
  },
  {
   "cell_type": "markdown",
   "source": [
    "### Use SPARQL for specific queries\n",
    "\n",
    "If we want to make more specific queries filtering the values of specific properties, we can construct a [SPARQL query](http://www.w3.org/TR/sparql11-overview/) including a filter on the `dcat:keyword` property using this keyword and a [regular expression](https://en.wikibooks.org/wiki/SPARQL/Expressions_and_Functions#REGEX)."
   ],
   "metadata": {
    "collapsed": false,
    "pycharm": {
     "name": "#%% md\n"
    }
   }
  },
  {
   "cell_type": "code",
   "execution_count": null,
   "outputs": [],
   "source": [
    "query_text = \"\"\"\n",
    "           PREFIX dct:<http://purl.org/dc/terms/>\n",
    "           PREFIX rdf: <http://www.w3.org/1999/02/22-rdf-syntax-ns#>\n",
    "           PREFIX dcat: <http://www.w3.org/ns/dcat#>\n",
    "           SELECT DISTINCT ?s WHERE { \n",
    "             ?s a dcat:Dataset .\n",
    "             ?s dcat:keyword ?value . \n",
    "             FILTER regex(str(?value), '\\\\\\\\b\"\"\"+ keyword +\"\"\"\\\\\\\\b', 'i') .\n",
    "           }\"\"\"\n",
    "\n",
    "print(query_text)"
   ],
   "metadata": {
    "collapsed": false,
    "pycharm": {
     "name": "#%%\n"
    }
   }
  },
  {
   "cell_type": "markdown",
   "source": [
    "We could run this query at the user interface of the SPARQL end-point at <https://data.europa.eu/data/sparql?locale=en>\n",
    "\n",
    "But in our case, we will launch the query through our Python code:"
   ],
   "metadata": {
    "collapsed": false,
    "pycharm": {
     "name": "#%% md\n"
    }
   }
  },
  {
   "cell_type": "code",
   "execution_count": null,
   "outputs": [],
   "source": [
    "!pip install SPARQLWrapper\n",
    "\n",
    "from SPARQLWrapper import SPARQLWrapper, JSON\n",
    "\n",
    "sparql = SPARQLWrapper('https://data.europa.eu/sparql')\n",
    "\n",
    "sparql.setQuery(query_text)\n",
    "\n",
    "sparql.setReturnFormat(JSON)\n",
    "\n",
    "results = sparql.query().convert()\n"
   ],
   "metadata": {
    "collapsed": false,
    "pycharm": {
     "name": "#%%\n"
    }
   }
  },
  {
   "cell_type": "markdown",
   "source": [
    "We need to process the results in JSON format as follows:"
   ],
   "metadata": {
    "collapsed": false,
    "pycharm": {
     "name": "#%% md\n"
    }
   }
  },
  {
   "cell_type": "code",
   "execution_count": null,
   "outputs": [],
   "source": [
    "print(len(results[\"results\"][\"bindings\"]), ' results:\\n')\n",
    "for row in results[\"results\"][\"bindings\"]:\n",
    "    dataset = row[\"s\"][\"value\"]\n",
    "    print(dataset)"
   ],
   "metadata": {
    "collapsed": false,
    "pycharm": {
     "name": "#%%\n"
    }
   }
  },
  {
   "cell_type": "markdown",
   "source": [
    "We can click on one of the previous links to see the metadata of a dataset in a human-readable format.\n",
    "We can also retrieve the metadata in [Turtle format](https://www.w3.org/TR/turtle/) (a serialization format for RDF metadata) of one of these datasets (e.g. <https://data.europa.eu/88u/dataset/https-opendata-aragon-es-datos-catalogo-dataset-oai-zaguan-unizar-es-95726> ), and upload it in a graph:"
   ],
   "metadata": {
    "collapsed": false,
    "pycharm": {
     "name": "#%% md\n"
    }
   }
  },
  {
   "cell_type": "code",
   "execution_count": null,
   "outputs": [],
   "source": [
    "\n",
    "def get_file_name(url):\n",
    "    \"\"\"\n",
    "    https://europeandataportal.eu/set/data/https-opendata-aragon-es-datos-catalogo-dataset-oai-zaguan-unizar-es-89319\n",
    "    return https-opendata-aragon-es-datos-catalogo-dataset-oai-zaguan-unizar-es-89319\n",
    "    \"\"\"\n",
    "    words = url.split('/')\n",
    "    file_name = words[len(words)-1]\n",
    "    return file_name\n",
    "\n",
    "import rdflib\n",
    "\n",
    "def download_metadata(url):\n",
    "    \"\"\"\n",
    "    Parses the dataset with URL in the graph\n",
    "    \"\"\"\n",
    "    id = get_file_name(url)\n",
    "    ttl_url = 'https://data.europa.eu/data/api/datasets/'+ id + '.ttl?useNormalizedId=true&locale=en'\n",
    "    print(ttl_url)\n",
    "    try:\n",
    "        graph = rdflib.Graph()\n",
    "        graph.parse(ttl_url, format=\"turtle\")\n",
    "        return graph\n",
    "    except Exception as err:\n",
    "        print(f'Other error occurred: {err}')\n",
    "\n",
    "url = input('Copy here one of the previous URLs: ')\n",
    "\n",
    "graph = download_metadata(url)\n",
    "v = graph.serialize(format='turtle')\n",
    "print(v)"
   ],
   "metadata": {
    "collapsed": false,
    "pycharm": {
     "name": "#%%\n"
    }
   }
  },
  {
   "cell_type": "markdown",
   "source": [
    "We can also retrieve the real data behind a dataset. \n",
    "\n",
    "For instance, this dataset (<https://data.europa.eu/88u/dataset/https-opendata-aragon-es-datos-catalogo-dataset-oai-zaguan-unizar-es-95726>) has an associated distribution in CSV format.\n",
    "\n",
    "We can retrieve the URL of the CSV file making a SPARQL query on the metadata in Turtle format:"
   ],
   "metadata": {
    "collapsed": false,
    "pycharm": {
     "name": "#%% md\n"
    }
   }
  },
  {
   "cell_type": "code",
   "execution_count": null,
   "outputs": [],
   "source": [
    "url = \"http://data.europa.eu/88u/dataset/https-opendata-aragon-es-datos-catalogo-dataset-oai-zaguan-unizar-es-95726\"\n",
    "\n",
    "graph = download_metadata(url)\n",
    "\n",
    "def get_csv_urls(graph):\n",
    "    query_text = \"\"\"\n",
    "                   PREFIX dct:<http://purl.org/dc/terms/>\n",
    "                   PREFIX rdf: <http://www.w3.org/1999/02/22-rdf-syntax-ns#>\n",
    "                   PREFIX dcat: <http://www.w3.org/ns/dcat#>\n",
    "                   PREFIX xsd: <http://www.w3.org/2001/XMLSchema#>\n",
    "                   SELECT  ?value  WHERE {\n",
    "                        ?dataset dcat:distribution ?resource .\n",
    "                        ?resource a dcat:Distribution .\n",
    "                        ?resource dct:format <http://publications.europa.eu/resource/authority/file-type/CSV> .\n",
    "                        ?resource dcat:accessURL ?value\n",
    "                    }\n",
    "                    \"\"\"\n",
    "    # print(query_text)\n",
    "    qres =  graph.query(query_text)\n",
    "    csv_files = []\n",
    "    for row in qres:\n",
    "        csv_files.append(row[\"value\"])\n",
    "    return csv_files\n",
    "\n",
    "csv_urls = get_csv_urls(graph)\n",
    "for row in csv_urls:\n",
    "  print(row)\n"
   ],
   "metadata": {
    "collapsed": false,
    "pycharm": {
     "name": "#%%\n"
    }
   }
  },
  {
   "cell_type": "markdown",
   "source": [
    "Last, we can visualize the content of the CSV file:"
   ],
   "metadata": {
    "collapsed": false,
    "pycharm": {
     "name": "#%% md\n"
    }
   }
  },
  {
   "cell_type": "code",
   "execution_count": null,
   "outputs": [],
   "source": [
    "import pandas as pd\n",
    "\n",
    "for row in csv_urls:\n",
    "  raw_sensor_data_2020_01 = pd.read_csv(row)\n",
    "  print(raw_sensor_data_2020_01)"
   ],
   "metadata": {
    "collapsed": false,
    "pycharm": {
     "name": "#%%\n"
    }
   }
  },
  {
   "cell_type": "markdown",
   "source": [
    "## Assignment\n",
    "\n",
    "Now, you are going to search for datasets relevant to your own research projects.\n",
    "\n",
    "You can make a copy of this Jupyter Notebooks in your own Google Drive accounts to be able to modify the variable called `final_query` in the cell below.\n",
    "\n",
    "This variable contains a SPARQL query. Now you can make a more specific query filtering the datasets described with specific properties and values according to the [DCAT-AP metadata model](https://data.europa.eu/w21/c18bb81e-43fe-405f-9bad-bb58d30a3666). You can have a look at its [UML class model](https://github.com/SEMICeu/DCAT-AP/blob/2.1.0-draft/releases/2.1.0/dcat-ap_2.1.0.png).\n",
    "\n",
    "For instance, you can try to retrieve datasets according to these two criteria:\n",
    "\n",
    "- the datasets have been published by an organization close to your research lab (your University, municipality council, local government). The `dct:publisher` property and its contained `foaf:name` property will be relevant for this.\n",
    "- the datasets hold at least one distribution in CSV format. The previous code to retrieve the URL of CSV data (see `get_csv_urls` function) will be relevant to see how to navigate through `Distributions`.\n",
    "\n",
    "You can also try another query with these two other criteria:\n",
    "\n",
    "- the title contains a specific term. The `dct:title` property will be relevant for this.\n",
    "- the datasets hold at least one distribution in CSV format. The previous code to retrieve the URL of CSV data (see `get_csv_urls` function) will be relevant to see how to navigate through `Distributions`.\n",
    "\n",
    "_Note: Just include two criteria in your queries. Probably, queries with more than two criteria will not be resolved quickly by the European Data portal SPARQL end-point within its time-out limit._"
   ],
   "metadata": {
    "collapsed": false,
    "pycharm": {
     "name": "#%% md\n"
    }
   }
  },
  {
   "cell_type": "code",
   "execution_count": null,
   "outputs": [],
   "source": [
    "def see_csv_data(dataset):\n",
    "  graph = download_metadata(dataset)\n",
    "  csv_urls = get_csv_urls(graph)\n",
    "  for row in csv_urls:\n",
    "    print(row)\n",
    "    csv_file = pd.read_csv(row)\n",
    "    print(csv_file)\n",
    "\n",
    "\n",
    "def see_metadata(dataset):\n",
    "  graph = download_metadata(dataset)\n",
    "  v = graph.serialize(format='turtle')\n",
    "  print(v)\n",
    "  response = input('Do you want to see CSV data if available? [Y]es, [Any other key] for no ').upper()\n",
    "  if response == 'Y':\n",
    "    see_csv_data(dataset)\n",
    "\n",
    "def search_datasets(url, sparql_query):\n",
    "    sparql = SPARQLWrapper(url)\n",
    "    sparql.setQuery(sparql_query)\n",
    "    sparql.setReturnFormat(JSON)\n",
    "    results = sparql.query().convert()\n",
    "    print(len(results[\"results\"][\"bindings\"]), ' results:\\n')\n",
    "    for row in results[\"results\"][\"bindings\"]:\n",
    "      dataset = row[\"s\"][\"value\"]\n",
    "      print(dataset)\n",
    "      response = input('Do you want to see metadata? [Y]es, [N]o, [Q]uit ').upper()\n",
    "      if response not in \"YNQ\" or len(response) != 1:\n",
    "        print(\"I don't know how to do that\")\n",
    "        continue\n",
    "      if response == 'Y':\n",
    "        see_metadata(dataset)\n",
    "      elif response == 'Q':\n",
    "        break\n",
    "\n",
    "\n",
    "edp_sparql = 'https://data.europa.eu/sparql'\n",
    "\n",
    "final_query = \"\"\"\n",
    "           PREFIX dct:<http://purl.org/dc/terms/>\n",
    "           PREFIX rdf: <http://www.w3.org/1999/02/22-rdf-syntax-ns#>\n",
    "           PREFIX dcat: <http://www.w3.org/ns/dcat#>\n",
    "           PREFIX foaf: <http://xmlns.com/foaf/0.1/>\n",
    "           SELECT DISTINCT ?s WHERE { \n",
    "             ?s a dcat:Dataset .\n",
    "             ?s dcat:keyword ?value . \n",
    "             FILTER regex(str(?value), '\\\\\\\\bTrafair\\\\\\\\b', 'i') .\n",
    "           } LIMIT 100\"\"\"\n",
    "print(final_query)\n",
    "\n",
    "search_datasets(edp_sparql, final_query)"
   ],
   "metadata": {
    "collapsed": false,
    "pycharm": {
     "name": "#%%\n"
    }
   }
  }
 ],
 "metadata": {
  "colab": {
   "name": "odeco_otp3_assignment1.ipynb",
   "provenance": []
  },
  "kernelspec": {
   "display_name": "Python 3 (ipykernel)",
   "language": "python",
   "name": "python3"
  },
  "language_info": {
   "codemirror_mode": {
    "name": "ipython",
    "version": 3
   },
   "file_extension": ".py",
   "mimetype": "text/x-python",
   "name": "python",
   "nbconvert_exporter": "python",
   "pygments_lexer": "ipython3",
   "version": "3.9.11"
  }
 },
 "nbformat": 4,
 "nbformat_minor": 5
}